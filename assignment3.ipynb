{
  "nbformat": 4,
  "nbformat_minor": 0,
  "metadata": {
    "colab": {
      "provenance": []
    },
    "kernelspec": {
      "name": "python3",
      "display_name": "Python 3"
    },
    "language_info": {
      "name": "python"
    }
  },
  "cells": [
    {
      "cell_type": "code",
      "execution_count": 9,
      "metadata": {
        "id": "l2OLoD7fAPbo"
      },
      "outputs": [],
      "source": [
        "#importing the numpy package\n",
        "import numpy as np"
      ]
    },
    {
      "cell_type": "code",
      "source": [
        "# a. Using NumPy create random vector of size 15 having only Integers in the range 1-20.\n",
        "# here we used the randint method to create vector\n",
        "x=np.random.randint(1,21,size=15)\n",
        "x"
      ],
      "metadata": {
        "colab": {
          "base_uri": "https://localhost:8080/"
        },
        "id": "PqL06SmcAYzf",
        "outputId": "492ecb96-0951-4d3c-dbdb-19e40e7ccafe"
      },
      "execution_count": 10,
      "outputs": [
        {
          "output_type": "execute_result",
          "data": {
            "text/plain": [
              "array([ 7, 13, 16, 14, 14, 15, 12,  6, 16, 10, 11, 18,  4, 11, 11])"
            ]
          },
          "metadata": {},
          "execution_count": 10
        }
      ]
    },
    {
      "cell_type": "code",
      "source": [
        "#reshape array \n",
        "x=np.reshape(x,(3,5))"
      ],
      "metadata": {
        "id": "Y0fS0jqWBTE0"
      },
      "execution_count": 11,
      "outputs": []
    },
    {
      "cell_type": "code",
      "source": [
        "#print the array\n",
        "print(x.shape)\n",
        "x"
      ],
      "metadata": {
        "colab": {
          "base_uri": "https://localhost:8080/"
        },
        "id": "ffzl7kyCA_0_",
        "outputId": "d5cf6db2-f244-4bdf-b5b8-8a7b0c3baa4a"
      },
      "execution_count": 12,
      "outputs": [
        {
          "output_type": "stream",
          "name": "stdout",
          "text": [
            "(3, 5)\n"
          ]
        },
        {
          "output_type": "execute_result",
          "data": {
            "text/plain": [
              "array([[ 7, 13, 16, 14, 14],\n",
              "       [15, 12,  6, 16, 10],\n",
              "       [11, 18,  4, 11, 11]])"
            ]
          },
          "metadata": {},
          "execution_count": 12
        }
      ]
    },
    {
      "cell_type": "code",
      "source": [
        "#Replace the max in each row by 0\n",
        "# here we used the amax method to get the max value in each row \n",
        "y = np.amax(x, axis=1)\n",
        "# and we used where method to replace 0 with max value\n",
        "y=np.where(np.isin(x,y), 0, x)\n",
        "y"
      ],
      "metadata": {
        "colab": {
          "base_uri": "https://localhost:8080/"
        },
        "id": "6_UOagpmBqHA",
        "outputId": "6ee66141-d258-4c5f-ab2d-b19858b723cf"
      },
      "execution_count": 13,
      "outputs": [
        {
          "output_type": "execute_result",
          "data": {
            "text/plain": [
              "array([[ 7, 13,  0, 14, 14],\n",
              "       [15, 12,  6,  0, 10],\n",
              "       [11,  0,  4, 11, 11]])"
            ]
          },
          "metadata": {},
          "execution_count": 13
        }
      ]
    },
    {
      "cell_type": "code",
      "source": [
        "#Create a 2-dimensional array of size 4 x 3 (composed of 4-byte integer elements), also print the shape, type and data typeof the array.\n",
        "\n",
        "x = np.array([[1, 2, 3], [4, 5, 6],[7,8,9],[10,11,12]], np.int32)\n",
        "print(type(x))\t\n",
        "print(x.shape)\n",
        "print(x.dtype)"
      ],
      "metadata": {
        "colab": {
          "base_uri": "https://localhost:8080/"
        },
        "id": "wjagGqVWYV94",
        "outputId": "61559cd6-1240-474d-c53e-52868d2f4406"
      },
      "execution_count": 16,
      "outputs": [
        {
          "output_type": "stream",
          "name": "stdout",
          "text": [
            "<class 'numpy.ndarray'>\n",
            "(4, 3)\n",
            "int32\n"
          ]
        }
      ]
    },
    {
      "cell_type": "code",
      "source": [
        "#b. Write a program to compute the eigenvalues and right eigenvectors of a given square array given below:\n",
        "# we used eig method to get eigen values and vectors\n",
        "m = np.array([[3, -2],\n",
        "              [1, 0]])    \n",
        "values, vector = np.linalg.eig(m)\n",
        "print(\"eigen values\",values)\n",
        "print(\"eigen vectors\",vector)"
      ],
      "metadata": {
        "colab": {
          "base_uri": "https://localhost:8080/"
        },
        "id": "mRlGjSKrJM9t",
        "outputId": "73ce3697-aba9-4a2d-d5e6-ed12b88a620e"
      },
      "execution_count": 17,
      "outputs": [
        {
          "output_type": "stream",
          "name": "stdout",
          "text": [
            "eigen values [2. 1.]\n",
            "eigen vectors [[0.89442719 0.70710678]\n",
            " [0.4472136  0.70710678]]\n"
          ]
        }
      ]
    },
    {
      "cell_type": "code",
      "source": [
        "#c.Compute the sum of the diagonal element of a given array.\n",
        "# we used trace method to get the diagonal sum where i=j\n",
        "z=[[0,1,2],[3,4,5]]\n",
        "print(np.trace(z))"
      ],
      "metadata": {
        "colab": {
          "base_uri": "https://localhost:8080/"
        },
        "id": "66PfHEkCJwsx",
        "outputId": "3087d606-d35e-4341-c442-c1e7f6456bdd"
      },
      "execution_count": 18,
      "outputs": [
        {
          "output_type": "stream",
          "name": "stdout",
          "text": [
            "4\n"
          ]
        }
      ]
    },
    {
      "cell_type": "code",
      "source": [
        "#d.Write a NumPy program to create a new shape to an array without changing its data. \n",
        "# we used reshaped method to reshape\n",
        "a=[[1,2],[3,4],[5,6]]\n",
        "a=np.reshape(a,(2,3))\n",
        "a"
      ],
      "metadata": {
        "colab": {
          "base_uri": "https://localhost:8080/"
        },
        "id": "3i4iBRrIKn6_",
        "outputId": "06fd8fb6-c713-4aba-bf94-e542a0cdb1d8"
      },
      "execution_count": 19,
      "outputs": [
        {
          "output_type": "execute_result",
          "data": {
            "text/plain": [
              "array([[1, 2, 3],\n",
              "       [4, 5, 6]])"
            ]
          },
          "metadata": {},
          "execution_count": 19
        }
      ]
    },
    {
      "cell_type": "code",
      "source": [
        "\"\"\"2. Matplotlib\n",
        "1. Write a Python programming to create a below chart of the popularity of programming Languages.\n",
        "2. Sample data:\n",
        "Programming languages: Java, Python, PH\"\"\"\n",
        "\n",
        "from matplotlib import pyplot as plt\n",
        "\n",
        " \n",
        "subjects = ['Java', 'Python', 'PHP', 'JavaScript', 'C#', 'C++']\n",
        " \n",
        "data = [22.2, 17.6, 8.8, 8, 7.7, 6.7]\n",
        "# colors codes\n",
        "colors = [\"#1f77b4\", \"#ff7f0e\", \"#2ca02c\", \"#d62728\", \"#9467bd\", \"#8c564b\"]\n",
        "# we need to explode the first slice\n",
        "explode = (0.1, 0, 0, 0,0,0)  \n",
        "# pie method is used to plit\n",
        "plt.pie(data, explode=explode, labels=subjects, colors=colors,autopct='%1.1f%%', shadow=True, startangle=140)\n",
        "\n",
        "plt.axis('equal')\n",
        "plt.show()"
      ],
      "metadata": {
        "colab": {
          "base_uri": "https://localhost:8080/",
          "height": 413
        },
        "id": "EtCTOtKOLO5W",
        "outputId": "62876009-45ab-4fad-8212-d0bb60c43b22"
      },
      "execution_count": 20,
      "outputs": [
        {
          "output_type": "display_data",
          "data": {
            "text/plain": [
              "<Figure size 640x480 with 1 Axes>"
            ],
            "image/png": "[encoded data removed]"
          },
          "metadata": {}
        }
      ]
    }
  ]
}